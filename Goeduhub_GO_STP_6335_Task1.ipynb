{
 "cells": [
  {
   "cell_type": "markdown",
   "metadata": {
    "id": "-v3bhu75qTSW"
   },
   "source": [
    "# ASSIGNMENT - 1 : Python Basics\n",
    "REG ID: GO_STP_6335\n",
    "NAME : Pandhigunta Surya Kumar"
   ]
  },
  {
   "cell_type": "markdown",
   "metadata": {},
   "source": [
    "Problem-1\n",
    "We are having 3 list like this\n",
    "\n",
    "Colors = [“Yellow”,”Green”,”White”,”Black”]\n",
    "\n",
    "Fruits=[“Apple”,”Papaya”,”Mango”,”Orange”]\n",
    "\n",
    "Animals=[“Tiger”,”Lion”,”Deer”,”Zebra”]\n",
    "\n",
    "  i. Write a program that asks user to enter a Color/Fruit/Animal name and it should tell which category belongs to , like its is a fruit or color or Animal"
   ]
  },
  {
   "cell_type": "code",
   "execution_count": 2,
   "metadata": {
    "colab": {
     "base_uri": "https://localhost:8080/"
    },
    "id": "oHQZfE9PrbJ7",
    "outputId": "ff35dbed-5099-449c-f3f0-99f44af9b96f"
   },
   "outputs": [
    {
     "name": "stdout",
     "output_type": "stream",
     "text": [
      "Enter a Color/Fruit/Animal name: Green\n",
      "It is a Color.\n"
     ]
    }
   ],
   "source": [
    "Colors = [\"Yellow\",\"Green\",\"White\",\"Black\"]\n",
    "Fruits=[\"Apple\",\"Papaya\",\"Mango\",\"Orange\"]\n",
    "Animals=[\"Tiger\",\"Lion\",\"Deer\",\"Zebra\"]\n",
    "category =input('Enter a Color/Fruit/Animal name: ')\n",
    "if category in Colors :\n",
    "  print('It is a Color.')\n",
    "elif category in Fruits :\n",
    "  print('It is a Fruit.')\n",
    "elif category in Animals:\n",
    "  print('It is an Animal.')\n",
    "else: \n",
    "  print('Please enter a Color/Fruit/Animal name only.')\n",
    "\n"
   ]
  },
  {
   "cell_type": "markdown",
   "metadata": {
    "id": "GkHx_FHzuIvq"
   },
   "source": [
    " ii. Write a program that asks user to enter two cities and it tells you if they both are in same country or not. For example if I enter yellow and Black, it will print \"Both are colors\" but if I enter yellow and Tiger it should print \"They don't belong to same category\""
   ]
  },
  {
   "cell_type": "code",
   "execution_count": 4,
   "metadata": {
    "colab": {
     "base_uri": "https://localhost:8080/"
    },
    "id": "Q8JhBAt2uOnZ",
    "outputId": "a0eae641-9696-41ce-a732-7e53eeaf11c3"
   },
   "outputs": [
    {
     "name": "stdout",
     "output_type": "stream",
     "text": [
      "Enter your category 1: Papaya\n",
      "Enter your category 2: Green\n",
      "They don't belong ro same category.\n"
     ]
    }
   ],
   "source": [
    "c1 = input('Enter your category 1: ')\n",
    "c2 = input('Enter your category 2: ')\n",
    "if c1 in Colors and c2 in Colors :\n",
    "  print ('Both are Colors.')\n",
    "elif c1 in Fruits and c2 in Fruits :\n",
    "  print ('Both are Fruits.')\n",
    "elif c1 in Animals and c2 in Animals :\n",
    "  print ('Both are Animals.')\n",
    "else :\n",
    "  print(\"They don't belong ro same category.\")\n",
    "\n"
   ]
  },
  {
   "cell_type": "markdown",
   "metadata": {
    "id": "P_z-plvzv8BQ"
   },
   "source": [
    "**Problem-2**\n",
    "\n",
    "Write a python program that can tell you if your grade score good or not . Normal Score range is 40 to 60.\n",
    "\n",
    "  i. Ask user to enter his score.\n",
    "\n",
    "  ii. If it is below 40 to 60 range then print that score is low\n",
    "\n",
    "  iii. If it is above 60 then print that it is good otherwise print that it is normal"
   ]
  },
  {
   "cell_type": "code",
   "execution_count": 5,
   "metadata": {
    "colab": {
     "base_uri": "https://localhost:8080/"
    },
    "id": "Q2rLBe-9wQqx",
    "outputId": "12ceeb6e-e953-43ad-8cee-118fc1568d09"
   },
   "outputs": [
    {
     "name": "stdout",
     "output_type": "stream",
     "text": [
      "Enter a score: 77\n",
      "Good score\n"
     ]
    }
   ],
   "source": [
    "#Ask user to enter his score\n",
    "score = int(input('Enter a score: '))\n",
    "#If it is below 40 to 60 range then print that score is low\n",
    "if score < 40 :\n",
    "  print('Low score')\n",
    "elif score > 60 :\n",
    "  print('Good score')\n",
    "else :\n",
    "  print('Normal score')"
   ]
  },
  {
   "cell_type": "markdown",
   "metadata": {
    "id": "GRmZ5R8dx-Wo"
   },
   "source": [
    "**Problem-3**\n",
    "\n",
    "After appearing in exam 10 times you got this result,\n",
    "\n",
    "result = [\"Pass\",\"Fail\",\"Fail\",\"Pass\",\"Fail\",\"Pass\",\"Pass\",\"Fail\",\"Fail\",\"Fail\"]\n",
    "\n",
    "Using for loop figure out how many times you got Pass"
   ]
  },
  {
   "cell_type": "code",
   "execution_count": 6,
   "metadata": {
    "colab": {
     "base_uri": "https://localhost:8080/"
    },
    "id": "cnVFRRtnyC2R",
    "outputId": "7c0fb7d4-f6d0-47e6-c519-0981bfd60680"
   },
   "outputs": [
    {
     "name": "stdout",
     "output_type": "stream",
     "text": [
      "You got passed 4 times\n"
     ]
    }
   ],
   "source": [
    "result = [\"Pass\",\"Fail\",\"Fail\",\"Pass\",\"Fail\",\"Pass\",\"Pass\",\"Fail\",\"Fail\",\"Fail\"]\n",
    "count = 0\n",
    "for i in result :\n",
    "  if i == \"Pass\" :\n",
    "    count += 1\n",
    "print('You got passed {} times'.format(count))\n"
   ]
  },
  {
   "cell_type": "markdown",
   "metadata": {
    "id": "d8XWQFVvzrtO"
   },
   "source": [
    "**Problem-4**\n",
    "\n",
    " Write a program that prints following shape\n",
    "\n",
    "\n",
    "\n",
    "\n",
    "\n",
    "\n",
    "\n",
    "\n"
   ]
  },
  {
   "cell_type": "code",
   "execution_count": 7,
   "metadata": {
    "colab": {
     "base_uri": "https://localhost:8080/"
    },
    "id": "-Wm2GDCF4hfI",
    "outputId": "25637da4-47a1-4c07-ded6-da09048b48c3"
   },
   "outputs": [
    {
     "name": "stdout",
     "output_type": "stream",
     "text": [
      "* \n",
      "* * \n",
      "* * * \n",
      "* * * * \n",
      "* * * * * \n",
      "* * * * \n",
      "* * * \n",
      "* * \n",
      "* \n"
     ]
    }
   ],
   "source": [
    "stars = 5\n",
    "for i in range(1, stars+1):\n",
    "  print(\"* \"*i)\n",
    "\n",
    "for j in range(stars-1,0,-1):\n",
    "  print(\"* \"*j)\n",
    " \n"
   ]
  },
  {
   "cell_type": "markdown",
   "metadata": {
    "id": "VUSiW4a9Doan"
   },
   "source": [
    "**Problem-5**\n",
    "\n",
    "Lets say you are running a 50 km race. Write a program that,\n",
    "\n",
    "\n",
    "*   Upon completing each 10 km asks you \"are you tired?\"\n",
    "*   If you reply \"yes\" then it should break and print \"you didn't finish the race.\"\n",
    "*   If you reply \"no\" then it should continue and ask \"are you tired\" on every km\n",
    "*   If you finish all 50 km then it should print congratulations message\n",
    "\n",
    "\n",
    "\n",
    "\n",
    "\n"
   ]
  },
  {
   "cell_type": "code",
   "execution_count": 9,
   "metadata": {
    "colab": {
     "base_uri": "https://localhost:8080/"
    },
    "id": "gelsMXgXDv4K",
    "outputId": "e724680f-461f-4fd4-d1f5-034c403c07f8"
   },
   "outputs": [
    {
     "name": "stdout",
     "output_type": "stream",
     "text": [
      "Reached 10 kms. Are you tired? \n",
      "Enter yes or no: no\n",
      "Reached 20 kms. Are you tired? \n",
      "Enter yes or no: yes\n",
      "You didn't finished the race.\n"
     ]
    }
   ],
   "source": [
    "for distance in range (1,51):\n",
    "  if (distance < 50) and (distance % 10) == 0 :\n",
    "    print('Reached {} kms. Are you tired? '.format(distance))\n",
    "    reply = input('Enter yes or no: ').lower()\n",
    "    if reply == \"yes\" :\n",
    "      print(\"You didn't finished the race.\")\n",
    "      break\n",
    "    elif reply == \"no\" :\n",
    "      continue \n",
    "    else :\n",
    "      print('Inavlid Input')\n",
    "  if distance == 50 :\n",
    "    print('Congratulations! You finished the race.')\n"
   ]
  },
  {
   "cell_type": "markdown",
   "metadata": {
    "id": "sWPHYJPWJmQ_"
   },
   "source": [
    "**Problem-6**\n",
    "\n",
    "Write a Python program to find those numbers which are divisible by 7 and multiple of 5, between 1500 and 2700 (both included)."
   ]
  },
  {
   "cell_type": "code",
   "execution_count": 10,
   "metadata": {
    "colab": {
     "base_uri": "https://localhost:8080/"
    },
    "id": "rFKf1NtoJu50",
    "outputId": "15ce4916-a709-45de-e3af-15a60f1b5974"
   },
   "outputs": [
    {
     "name": "stdout",
     "output_type": "stream",
     "text": [
      "1505 1540 1575 1610 1645 1680 1715 1750 1785 1820 1855 1890 1925 1960 1995 2030 2065 2100 2135 2170 2205 2240 2275 2310 2345 2380 2415 2450 2485 2520 2555 2590 2625 2660 2695 "
     ]
    }
   ],
   "source": [
    "for num in range(1500,2701) :\n",
    "  if (num % 7 == 0) and (num % 5 == 0):\n",
    "    print(num, end = \" \")"
   ]
  },
  {
   "cell_type": "code",
   "execution_count": 11,
   "metadata": {
    "colab": {
     "base_uri": "https://localhost:8080/"
    },
    "id": "0A5GjVsl4K0g",
    "outputId": "a935aac2-4740-4aa0-8d86-d04cac9626f4"
   },
   "outputs": [
    {
     "name": "stdout",
     "output_type": "stream",
     "text": [
      "[1505, 1540, 1575, 1610, 1645, 1680, 1715, 1750, 1785, 1820, 1855, 1890, 1925, 1960, 1995, 2030, 2065, 2100, 2135, 2170, 2205, 2240, 2275, 2310, 2345, 2380, 2415, 2450, 2485, 2520, 2555, 2590, 2625, 2660, 2695]\n"
     ]
    }
   ],
   "source": [
    "num =[]\n",
    "for i in range (1500,2701):\n",
    "  if (i%7==0) and (i%5==0):\n",
    "    num.append(i)\n",
    "print(num)\n",
    "\n"
   ]
  },
  {
   "cell_type": "markdown",
   "metadata": {
    "id": "THeve0rfLdZg"
   },
   "source": [
    "**Problrm-7**\n",
    "\n",
    "Print square of all numbers between 10 to 20 except even numbers"
   ]
  },
  {
   "cell_type": "code",
   "execution_count": 12,
   "metadata": {
    "colab": {
     "base_uri": "https://localhost:8080/"
    },
    "id": "3UKfs8brzyXO",
    "outputId": "787b1fe7-98d9-4b4c-9906-e8b386c869a6"
   },
   "outputs": [
    {
     "name": "stdout",
     "output_type": "stream",
     "text": [
      "square of all numbers between 10 to 20 except even numbers are: \n",
      "121\n",
      "169\n",
      "225\n",
      "289\n",
      "361\n"
     ]
    }
   ],
   "source": [
    "print('square of all numbers between 10 to 20 except even numbers are: ')\n",
    "for num in range (10,20):\n",
    "  if (num % 2)!=0 :\n",
    "    print(num**2)"
   ]
  },
  {
   "cell_type": "markdown",
   "metadata": {
    "id": "OWIWMk7SMY6t"
   },
   "source": [
    "**Problem-8**\n",
    "\n",
    "Your Marks for five Test(test1 to test5) looks like this,\n",
    "\n",
    "marks_list = [65, 75, 2100, 95, 83]\n",
    "\n",
    "Write a program that asks you to enter marks and program should tell you in which test that marks occurred. If marks is not found then it should print that as well."
   ]
  },
  {
   "cell_type": "code",
   "execution_count": 13,
   "metadata": {
    "colab": {
     "base_uri": "https://localhost:8080/"
    },
    "id": "5so-p3kfPr3i",
    "outputId": "a7185702-b6b5-4533-ecf2-88cc5210f869",
    "scrolled": true
   },
   "outputs": [
    {
     "name": "stdout",
     "output_type": "stream",
     "text": [
      "Enter your marks: 91\n",
      "Mark is not found.\n"
     ]
    }
   ],
   "source": [
    "marks_list = [65, 75, 2100, 95, 83]\n",
    "mark = int(input('Enter your marks: '))\n",
    "if mark in marks_list:\n",
    "  ind=marks_list.index(mark)\n",
    "  print('Marks occured in test',ind+1)\n",
    "else :\n",
    "  print('Mark is not found.')"
   ]
  },
  {
   "cell_type": "markdown",
   "metadata": {},
   "source": [
    "******Tank You********"
   ]
  }
 ],
 "metadata": {
  "colab": {
   "collapsed_sections": [],
   "name": "Goeduhub-Task1.ipynb",
   "provenance": []
  },
  "kernelspec": {
   "display_name": "Python 3",
   "language": "python",
   "name": "python3"
  },
  "language_info": {
   "codemirror_mode": {
    "name": "ipython",
    "version": 3
   },
   "file_extension": ".py",
   "mimetype": "text/x-python",
   "name": "python",
   "nbconvert_exporter": "python",
   "pygments_lexer": "ipython3",
   "version": "3.7.6"
  }
 },
 "nbformat": 4,
 "nbformat_minor": 1
}
